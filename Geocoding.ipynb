{
 "cells": [
  {
   "cell_type": "code",
   "execution_count": 1,
   "metadata": {},
   "outputs": [],
   "source": [
    "import pandas as pd\n",
    "import numpy as np"
   ]
  },
  {
   "cell_type": "code",
   "execution_count": 2,
   "metadata": {},
   "outputs": [],
   "source": [
    "rides = pd.read_csv('data/2017-Q1-Trips-History-Data.csv')"
   ]
  },
  {
   "cell_type": "code",
   "execution_count": 21,
   "metadata": {},
   "outputs": [],
   "source": [
    "list_of_station_names = (rides['Start station']).unique().tolist()"
   ]
  },
  {
   "cell_type": "code",
   "execution_count": 38,
   "metadata": {},
   "outputs": [],
   "source": [
    "import http.client, urllib.request, urllib.parse, urllib.error, base64;\n",
    "\n",
    "url = \"https://maps.google.com/maps/api/geocode/json?address=\"+list_of_station_names[2].replace(' ','%20')+\"%20Washington,DC\";\n",
    "response = urllib.request.urlopen(url).read().decode('utf-8')"
   ]
  },
  {
   "cell_type": "code",
   "execution_count": 39,
   "metadata": {},
   "outputs": [
    {
     "name": "stdout",
     "output_type": "stream",
     "text": [
      "M St & Delaware Ave NE\n"
     ]
    }
   ],
   "source": [
    "print(list_of_station_names[2])"
   ]
  },
  {
   "cell_type": "code",
   "execution_count": 40,
   "metadata": {},
   "outputs": [],
   "source": [
    "import json\n",
    "k = json.loads(response)"
   ]
  },
  {
   "cell_type": "code",
   "execution_count": 41,
   "metadata": {},
   "outputs": [
    {
     "data": {
      "text/plain": [
       "{'results': [{'address_components': [{'long_name': 'São Tomé and Príncipe',\n",
       "     'short_name': 'ST',\n",
       "     'types': ['country', 'political']}],\n",
       "   'formatted_address': 'São Tomé and Príncipe',\n",
       "   'geometry': {'bounds': {'northeast': {'lat': 1.8961687,\n",
       "      'lng': 7.658843900000001},\n",
       "     'southwest': {'lat': -0.09887689999999999, 'lng': 6.328125}},\n",
       "    'location': {'lat': 0.18636, 'lng': 6.613080999999999},\n",
       "    'location_type': 'APPROXIMATE',\n",
       "    'viewport': {'northeast': {'lat': 1.8961687, 'lng': 7.658843900000001},\n",
       "     'southwest': {'lat': -0.09887689999999999, 'lng': 6.328125}}},\n",
       "   'partial_match': True,\n",
       "   'place_id': 'ChIJidiaC_nscBAR6jB2VQwjUWI',\n",
       "   'types': ['country', 'political']}],\n",
       " 'status': 'OK'}"
      ]
     },
     "execution_count": 41,
     "metadata": {},
     "output_type": "execute_result"
    }
   ],
   "source": [
    "k"
   ]
  }
 ],
 "metadata": {
  "anaconda-cloud": {},
  "kernelspec": {
   "display_name": "Python [Root]",
   "language": "python",
   "name": "Python [Root]"
  },
  "language_info": {
   "codemirror_mode": {
    "name": "ipython",
    "version": 3
   },
   "file_extension": ".py",
   "mimetype": "text/x-python",
   "name": "python",
   "nbconvert_exporter": "python",
   "pygments_lexer": "ipython3",
   "version": "3.5.2"
  }
 },
 "nbformat": 4,
 "nbformat_minor": 2
}
