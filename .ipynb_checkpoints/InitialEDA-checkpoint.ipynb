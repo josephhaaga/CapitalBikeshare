{
 "cells": [
  {
   "cell_type": "code",
   "execution_count": 1,
   "metadata": {
    "collapsed": false
   },
   "outputs": [],
   "source": [
    "import pandas as pd;\n",
    "import numpy as np;\n",
    "# import pyplot as plt;\n",
    "import matplotlib as mplot;\n",
    "%matplotlib inline"
   ]
  },
  {
   "cell_type": "code",
   "execution_count": 2,
   "metadata": {
    "collapsed": true
   },
   "outputs": [],
   "source": [
    "raw = pd.read_csv('data/2017-Q1-Trips-History-Data.csv')"
   ]
  },
  {
   "cell_type": "code",
   "execution_count": 45,
   "metadata": {
    "collapsed": false
   },
   "outputs": [
    {
     "data": {
      "text/html": [
       "<div>\n",
       "<table border=\"1\" class=\"dataframe\">\n",
       "  <thead>\n",
       "    <tr style=\"text-align: right;\">\n",
       "      <th></th>\n",
       "      <th>Duration</th>\n",
       "      <th>Start date</th>\n",
       "      <th>End date</th>\n",
       "      <th>Start station number</th>\n",
       "      <th>Start station</th>\n",
       "      <th>End station number</th>\n",
       "      <th>End station</th>\n",
       "      <th>Bike number</th>\n",
       "      <th>Member Type</th>\n",
       "      <th>Duration (s)</th>\n",
       "      <th>Duration (m)</th>\n",
       "    </tr>\n",
       "  </thead>\n",
       "  <tbody>\n",
       "    <tr>\n",
       "      <th>0</th>\n",
       "      <td>1048876</td>\n",
       "      <td>3/31/2017 23:59</td>\n",
       "      <td>4/1/2017 0:17</td>\n",
       "      <td>31213</td>\n",
       "      <td>17th &amp; K St NW</td>\n",
       "      <td>31606</td>\n",
       "      <td>Potomac &amp; Pennsylvania Ave SE</td>\n",
       "      <td>W20784</td>\n",
       "      <td>Registered</td>\n",
       "      <td>1048.876</td>\n",
       "      <td>17.481267</td>\n",
       "    </tr>\n",
       "    <tr>\n",
       "      <th>1</th>\n",
       "      <td>223449</td>\n",
       "      <td>3/31/2017 23:59</td>\n",
       "      <td>4/1/2017 0:03</td>\n",
       "      <td>31104</td>\n",
       "      <td>Adams Mill &amp; Columbia Rd NW</td>\n",
       "      <td>31103</td>\n",
       "      <td>16th &amp; Harvard St NW</td>\n",
       "      <td>W20825</td>\n",
       "      <td>Registered</td>\n",
       "      <td>223.449</td>\n",
       "      <td>3.724150</td>\n",
       "    </tr>\n",
       "    <tr>\n",
       "      <th>2</th>\n",
       "      <td>423494</td>\n",
       "      <td>3/31/2017 23:58</td>\n",
       "      <td>4/1/2017 0:05</td>\n",
       "      <td>31627</td>\n",
       "      <td>M St &amp; Delaware Ave NE</td>\n",
       "      <td>31614</td>\n",
       "      <td>11th &amp; H St NE</td>\n",
       "      <td>W20773</td>\n",
       "      <td>Registered</td>\n",
       "      <td>423.494</td>\n",
       "      <td>7.058233</td>\n",
       "    </tr>\n",
       "    <tr>\n",
       "      <th>3</th>\n",
       "      <td>687015</td>\n",
       "      <td>3/31/2017 23:57</td>\n",
       "      <td>4/1/2017 0:08</td>\n",
       "      <td>31404</td>\n",
       "      <td>9th &amp; Upshur St NW</td>\n",
       "      <td>31281</td>\n",
       "      <td>8th &amp; O St NW</td>\n",
       "      <td>W01307</td>\n",
       "      <td>Registered</td>\n",
       "      <td>687.015</td>\n",
       "      <td>11.450250</td>\n",
       "    </tr>\n",
       "    <tr>\n",
       "      <th>4</th>\n",
       "      <td>257919</td>\n",
       "      <td>3/31/2017 23:57</td>\n",
       "      <td>4/1/2017 0:02</td>\n",
       "      <td>31602</td>\n",
       "      <td>Park Rd &amp; Holmead Pl NW</td>\n",
       "      <td>31400</td>\n",
       "      <td>Georgia &amp; New Hampshire Ave NW</td>\n",
       "      <td>W21760</td>\n",
       "      <td>Registered</td>\n",
       "      <td>257.919</td>\n",
       "      <td>4.298650</td>\n",
       "    </tr>\n",
       "  </tbody>\n",
       "</table>\n",
       "</div>"
      ],
      "text/plain": [
       "   Duration       Start date       End date  Start station number  \\\n",
       "0   1048876  3/31/2017 23:59  4/1/2017 0:17                 31213   \n",
       "1    223449  3/31/2017 23:59  4/1/2017 0:03                 31104   \n",
       "2    423494  3/31/2017 23:58  4/1/2017 0:05                 31627   \n",
       "3    687015  3/31/2017 23:57  4/1/2017 0:08                 31404   \n",
       "4    257919  3/31/2017 23:57  4/1/2017 0:02                 31602   \n",
       "\n",
       "                 Start station  End station number  \\\n",
       "0               17th & K St NW               31606   \n",
       "1  Adams Mill & Columbia Rd NW               31103   \n",
       "2       M St & Delaware Ave NE               31614   \n",
       "3           9th & Upshur St NW               31281   \n",
       "4      Park Rd & Holmead Pl NW               31400   \n",
       "\n",
       "                      End station Bike number Member Type  Duration (s)  \\\n",
       "0   Potomac & Pennsylvania Ave SE      W20784  Registered      1048.876   \n",
       "1            16th & Harvard St NW      W20825  Registered       223.449   \n",
       "2                  11th & H St NE      W20773  Registered       423.494   \n",
       "3                   8th & O St NW      W01307  Registered       687.015   \n",
       "4  Georgia & New Hampshire Ave NW      W21760  Registered       257.919   \n",
       "\n",
       "   Duration (m)  \n",
       "0     17.481267  \n",
       "1      3.724150  \n",
       "2      7.058233  \n",
       "3     11.450250  \n",
       "4      4.298650  "
      ]
     },
     "execution_count": 45,
     "metadata": {},
     "output_type": "execute_result"
    }
   ],
   "source": [
    "raw.head()"
   ]
  },
  {
   "cell_type": "markdown",
   "metadata": {},
   "source": [
    "Looks like we are provided with:\n",
    "- trip duration\n",
    "- start/end dates\n",
    "- start location\n",
    "- end location\n",
    "- bike ID\n",
    "- membership type\n",
    "\n",
    "Initial questions we can answer include:\n",
    "- Do registered members take longer/shorter trips than casual users?\n",
    "    - What days of the week experience greater use from particular Member Types?\n",
    "        - e.g. 'commuter behavior'\n",
    "- Are certain bikes experiencing disproportionately high use?\n",
    "    - is this a consequence of being located at busier stations?\n",
    "- Does CaBi relocate bikes to evenly distribute wear-and-tear?\n",
    "    - e.g. does a particular bike begin a trip at a station different from the end destination of it's last trip?\n",
    "        - CaBi cleansed staff rides from the dataset, but we can deduce when this occurs\n",
    "- How often do users return a bike to the start location?\n",
    "    - are certain locations more conducive to this 'boomerang' behavior?"
   ]
  },
  {
   "cell_type": "code",
   "execution_count": 4,
   "metadata": {
    "collapsed": true
   },
   "outputs": [],
   "source": [
    "grouped_by_membership = raw.groupby('Member Type')"
   ]
  },
  {
   "cell_type": "code",
   "execution_count": 30,
   "metadata": {
    "collapsed": false
   },
   "outputs": [
    {
     "name": "stdout",
     "output_type": "stream",
     "text": [
      "Assuming Duration is ms, shortest trip is 60.004 seconds\n",
      "\n",
      "60.004 > 60, so our assumption is True\n"
     ]
    }
   ],
   "source": [
    "# CaBi Data Documentation (https://www.capitalbikeshare.com/system-data)\n",
    "# This data has been processed to remove trips that are taken by staff as they service and inspect the system, \n",
    "# trips that are taken to/from any of our “test” stations at our warehouses and any trips lasting less than 60 seconds\n",
    "shortest_trip_in_ms = (raw['Duration'].min() / (1000))\n",
    "print(\"Assuming Duration is ms, shortest trip is {0} seconds\".format(shortest_trip_in_ms))\n",
    "print()\n",
    "print(\"{0} > 60, so our assumption is\".format(shortest_trip_in_ms), shortest_trip_in_ms>60)"
   ]
  },
  {
   "cell_type": "code",
   "execution_count": 32,
   "metadata": {
    "collapsed": false
   },
   "outputs": [
    {
     "data": {
      "text/html": [
       "<div>\n",
       "<table border=\"1\" class=\"dataframe\">\n",
       "  <thead>\n",
       "    <tr style=\"text-align: right;\">\n",
       "      <th></th>\n",
       "      <th>Duration</th>\n",
       "      <th>Start date</th>\n",
       "      <th>End date</th>\n",
       "      <th>Start station number</th>\n",
       "      <th>Start station</th>\n",
       "      <th>End station number</th>\n",
       "      <th>End station</th>\n",
       "      <th>Bike number</th>\n",
       "      <th>Member Type</th>\n",
       "    </tr>\n",
       "  </thead>\n",
       "  <tbody>\n",
       "    <tr>\n",
       "      <th>241987</th>\n",
       "      <td>60004</td>\n",
       "      <td>3/1/2017 12:10</td>\n",
       "      <td>3/1/2017 12:11</td>\n",
       "      <td>31007</td>\n",
       "      <td>Crystal City Metro / 18th &amp; Bell St</td>\n",
       "      <td>31007</td>\n",
       "      <td>Crystal City Metro / 18th &amp; Bell St</td>\n",
       "      <td>W21302</td>\n",
       "      <td>Registered</td>\n",
       "    </tr>\n",
       "  </tbody>\n",
       "</table>\n",
       "</div>"
      ],
      "text/plain": [
       "        Duration      Start date        End date  Start station number  \\\n",
       "241987     60004  3/1/2017 12:10  3/1/2017 12:11                 31007   \n",
       "\n",
       "                              Start station  End station number  \\\n",
       "241987  Crystal City Metro / 18th & Bell St               31007   \n",
       "\n",
       "                                End station Bike number Member Type  \n",
       "241987  Crystal City Metro / 18th & Bell St      W21302  Registered  "
      ]
     },
     "execution_count": 32,
     "metadata": {},
     "output_type": "execute_result"
    }
   ],
   "source": [
    "# Sanity check: this ride indeed lasted 1 minute\n",
    "raw[raw['Duration']==raw['Duration'].min()]"
   ]
  },
  {
   "cell_type": "code",
   "execution_count": 35,
   "metadata": {
    "collapsed": true
   },
   "outputs": [],
   "source": [
    "raw['Duration (s)'] = raw['Duration']/1000\n",
    "raw['Duration (m)'] = raw['Duration (s)']/60"
   ]
  },
  {
   "cell_type": "code",
   "execution_count": 57,
   "metadata": {
    "collapsed": false,
    "scrolled": true
   },
   "outputs": [
    {
     "data": {
      "text/plain": [
       "<matplotlib.text.Text at 0x118b53438>"
      ]
     },
     "execution_count": 57,
     "metadata": {},
     "output_type": "execute_result"
    },
    {
     "data": {
      "image/png": "[encoded data removed]",
      "text/plain": [
       "<matplotlib.figure.Figure at 0x118b49c18>"
      ]
     },
     "metadata": {},
     "output_type": "display_data"
    }
   ],
   "source": [
    "grouped_by_membership['Duration (m)'].median().plot(kind='bar', rot=0, title=\"Median trip duration by Member Type\", color=['red','blue']).set_ylabel('Minutes')\n"
   ]
  },
  {
   "cell_type": "code",
   "execution_count": 58,
   "metadata": {
    "collapsed": false,
    "scrolled": true
   },
   "outputs": [
    {
     "data": {
      "text/plain": [
       "<matplotlib.text.Text at 0x118c77550>"
      ]
     },
     "execution_count": 58,
     "metadata": {},
     "output_type": "execute_result"
    },
    {
     "data": {
      "image/png": "[encoded data removed]",
      "text/plain": [
       "<matplotlib.figure.Figure at 0x118c80da0>"
      ]
     },
     "metadata": {},
     "output_type": "display_data"
    }
   ],
   "source": [
    "grouped_by_membership['Duration (m)'].mean().plot(kind='bar', rot=0, title=\"Average trip duration by Member Type\", color=['red','blue']).set_ylabel('Minutes')"
   ]
  },
  {
   "cell_type": "code",
   "execution_count": null,
   "metadata": {
    "collapsed": true
   },
   "outputs": [],
   "source": [
    "# Casual riders appear to use the bikes for longer than registered users. \n",
    "# This is likely due to Casual members taking leisurely rides, while Registered members tend to be commuters\n",
    "#  - commuting to metro stations?\n",
    "\n"
   ]
  }
 ],
 "metadata": {
  "kernelspec": {
   "display_name": "Python [Root]",
   "language": "python",
   "name": "Python [Root]"
  },
  "language_info": {
   "codemirror_mode": {
    "name": "ipython",
    "version": 3
   },
   "file_extension": ".py",
   "mimetype": "text/x-python",
   "name": "python",
   "nbconvert_exporter": "python",
   "pygments_lexer": "ipython3",
   "version": "3.5.2"
  }
 },
 "nbformat": 4,
 "nbformat_minor": 2
}
